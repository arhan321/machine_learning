{
 "cells": [
  {
   "cell_type": "markdown",
   "id": "117a0011",
   "metadata": {},
   "source": [
    "# best study time prediction based on lms access and assignment grades"
   ]
  },
  {
   "cell_type": "markdown",
   "id": "9ecf0a29",
   "metadata": {},
   "source": [
    "langkah - langkah machine yang akan di excute : \n",
    "\n",
    "- Pemeriksaan Data: Menyaring dan menampilkan data untuk memastikan kita memahami struktur dataset yang ada.\n",
    "\n",
    "- Pembersihan Data: Mengatasi masalah data yang hilang atau data yang tidak sesuai.\n",
    "\n",
    "- ksplorasi Data: Membuat visualisasi seperti distribusi fitur-fitur penting (misalnya, waktu belajar mingguan, GPA, absensi, dll.) dan hubungan antar fitur.\n",
    "\n",
    "- Korelasi Antar Fitur: Menghitung dan memvisualisasikan korelasi antara fitur-fitur utama untuk melihat apakah ada hubungan yang signifikan.\n",
    "\n",
    "- Visualisasi Perbandingan: Membuat visualisasi yang membandingkan nilai fitur dengan GradeClass (klasifikasi nilai)."
   ]
  },
  {
   "cell_type": "markdown",
   "id": "5326e3d6",
   "metadata": {},
   "source": [
    "Dataset yang Saya pakai berisi berbagai informasi tentang mahasiswa, termasuk:\n",
    "\n",
    "- Informasi Demografis: Usia, jenis kelamin, etnisitas, pendidikan orang tua, dll.\n",
    "\n",
    "- Kebiasaan Belajar: Waktu belajar mingguan, absensi, dll.\n",
    "\n",
    "- Keterlibatan Orang Tua dan Aktivitas Ekstrakurikuler: Partisipasi dalam tutoring, olahraga, musik, dll.\n",
    "\n",
    "- Kinerja Akademik: Nilai GPA dan klasifikasi GradeClass yang menggambarkan kategori nilai berdasarkan GPA."
   ]
  },
  {
   "cell_type": "code",
   "execution_count": null,
   "id": "7e6c1fbb",
   "metadata": {},
   "outputs": [],
   "source": [
    "# Import library yang diperlukan\n",
    "import pandas as pd\n",
    "import numpy as np\n",
    "import matplotlib.pyplot as plt\n",
    "import seaborn as sns\n",
    "from sklearn.model_selection import train_test_split\n",
    "from sklearn.preprocessing import StandardScaler\n",
    "from sklearn.linear_model import LinearRegression\n",
    "from sklearn.metrics import mean_squared_error, r2_score"
   ]
  },
  {
   "cell_type": "code",
   "execution_count": null,
   "id": "ed3b644a",
   "metadata": {},
   "outputs": [],
   "source": [
    "# Memuat dataset yang telah diunggah\n",
    "student_data_final = pd.read_csv('/root/machine_learning/project_ml/Student_performance_data.csv')\n",
    "\n",
    "# Menampilkan beberapa baris pertama untuk memeriksa struktur dataset\n",
    "student_data_final.head()"
   ]
  },
  {
   "cell_type": "markdown",
   "id": "bfe0c324",
   "metadata": {},
   "source": [
    "## Visualisasi Distribusi Data"
   ]
  },
  {
   "cell_type": "markdown",
   "id": "3365053b",
   "metadata": {},
   "source": [
    "Saya akan membuat beberapa grafik untuk memvisualisasikan distribusi dari fitur-fitur utama seperti StudyTimeWeekly, Absences, GPA, dan GradeClass."
   ]
  },
  {
   "cell_type": "code",
   "execution_count": null,
   "id": "49795109",
   "metadata": {},
   "outputs": [],
   "source": [
    "# Visualisasi distribusi dari beberapa fitur utama\n",
    "fig, axs = plt.subplots(2, 2, figsize=(14, 10))\n",
    "\n",
    "# StudyTimeWeekly\n",
    "sns.histplot(student_data_final['StudyTimeWeekly'], kde=True, ax=axs[0, 0], color='blue')\n",
    "axs[0, 0].set_title('Distribusi Waktu Belajar Mingguan')\n",
    "\n",
    "# Absences\n",
    "sns.histplot(student_data_final['Absences'], kde=True, ax=axs[0, 1], color='green')\n",
    "axs[0, 1].set_title('Distribusi Absensi')\n",
    "\n",
    "# GPA\n",
    "sns.histplot(student_data_final['GPA'], kde=True, ax=axs[1, 0], color='purple')\n",
    "axs[1, 0].set_title('Distribusi GPA')\n",
    "\n",
    "# GradeClass (dalam bentuk kategori) tanpa menggunakan palette\n",
    "sns.countplot(x='GradeClass', data=student_data_final, ax=axs[1, 1])\n",
    "axs[1, 1].set_title('Distribusi GradeClass')\n",
    "\n",
    "plt.tight_layout()\n",
    "plt.show()\n"
   ]
  },
  {
   "cell_type": "markdown",
   "id": "d305499b",
   "metadata": {},
   "source": [
    "Berikut adalah beberapa visualisasi untuk menjelajahi distribusi data:\n",
    "\n",
    "- Distribusi Waktu Belajar Mingguan (CHART 1):\n",
    "\n",
    "Waktu belajar mingguan mahasiswa sebagian besar berkisar antara 0 hingga 20 jam. Beberapa mahasiswa menghabiskan lebih banyak waktu, namun jumlahnya lebih sedikit.\n",
    "\n",
    "- Distribusi Absensi (CHART 2 ):\n",
    "\n",
    "Sebagian besar mahasiswa memiliki absensi rendah (kurang dari 10 hari). Namun, ada beberapa mahasiswa yang memiliki absensi lebih tinggi, yang bisa menjadi indikator penting dalam memprediksi kinerja akademik.\n",
    "\n",
    "- Distribusi GPA (GPA adalah singkatan dari Grade Point Average) (CHART 3):\n",
    "\n",
    "Sebagian besar mahasiswa memiliki GPA di bawah 3.5. Namun, terdapat mahasiswa yang mendapatkan GPA sangat rendah, menunjukkan adanya perbedaan besar dalam kinerja akademik.\n",
    "\n",
    "- Distribusi GradeClass (CHART 4):\n",
    "\n",
    "Kategori GradeClass berkisar dari 0 hingga 4 (mungkin hasil kategorisasi dari GPA).\n",
    "\n",
    "Kategori 4.0 mendominasi jumlah siswa, diikuti oleh 3.0, 2.0, dst.\n",
    "\n",
    "Makna: Meskipun GPA menunjukkan distribusi normal, GradeClass memperlihatkan bahwa banyak siswa diklasifikasikan ke kategori tertinggi (4.0)—ini bisa terjadi akibat dari cara pengelompokan nilai."
   ]
  },
  {
   "cell_type": "markdown",
   "id": "03a4c0b3",
   "metadata": {},
   "source": [
    " ## Korelasi Antar Fitur"
   ]
  },
  {
   "cell_type": "markdown",
   "id": "bec0091e",
   "metadata": {},
   "source": [
    "Sekarang Saya akan menghitung dan memvisualisasikan korelasi antara fitur-fitur utama untuk melihat apakah ada hubungan yang signifikan antara waktu belajar, absensi, GPA, dan GradeClass."
   ]
  },
  {
   "cell_type": "code",
   "execution_count": null,
   "id": "e3a604b4",
   "metadata": {},
   "outputs": [],
   "source": [
    "# Menghitung korelasi antar fitur utama\n",
    "correlation_matrix = student_data_final[['StudyTimeWeekly', 'Absences', 'GPA', 'Age', 'ParentalEducation']].corr()\n",
    "\n",
    "# Visualisasi korelasi menggunakan heatmap\n",
    "plt.figure(figsize=(8, 6))\n",
    "sns.heatmap(correlation_matrix, annot=True, cmap='coolwarm', fmt='.2f', linewidths=0.5)\n",
    "plt.title('Korelasi Antar Fitur Utama')\n",
    "plt.show()\n"
   ]
  },
  {
   "cell_type": "markdown",
   "id": "1e68e62e",
   "metadata": {},
   "source": [
    "Pada heatmap korelasi di atas, kita dapat melihat hubungan antar fitur utama:\n",
    "\n",
    "- Korelasi antara Waktu Belajar Mingguan dan GPA:\n",
    "\n",
    "Terdapat korelasi positif moderat (0.36) antara waktu belajar mingguan dan GPA, yang menunjukkan bahwa mahasiswa yang lebih banyak belajar cenderung memiliki GPA yang lebih tinggi. Namun, hubungan ini tidak terlalu kuat.\n",
    "\n",
    "- Korelasi antara Absensi dan GPA:\n",
    "\n",
    "Ada korelasi negatif (-0.39) antara absensi dan GPA, yang berarti mahasiswa yang lebih sering absen cenderung memiliki GPA yang lebih rendah. Ini menunjukkan bahwa kehadiran di kelas mungkin berperan penting dalam kinerja akademik.\n",
    "\n",
    "- Korelasi antara Waktu Belajar Mingguan dan Absensi:\n",
    "\n",
    "Tidak ada korelasi yang signifikan antara waktu belajar mingguan dan absensi, yang menunjukkan bahwa waktu belajar tidak selalu terkait langsung dengan kehadiran di kelas."
   ]
  },
  {
   "cell_type": "markdown",
   "id": "a8e8c779",
   "metadata": {},
   "source": [
    "# Visualisasi Perbandingan Fitur dengan GradeClass"
   ]
  },
  {
   "cell_type": "markdown",
   "id": "d3e37fcf",
   "metadata": {},
   "source": [
    "Sekarang Saya akan membandingkan distribusi fitur-fitur utama seperti StudyTimeWeekly, Absences, dan GPA dengan GradeClass. Ini akan memberikan wawasan lebih lanjut tentang bagaimana faktor-faktor ini mempengaruhi klasifikasi nilai mahasiswa."
   ]
  },
  {
   "cell_type": "code",
   "execution_count": null,
   "id": "d51f4884",
   "metadata": {},
   "outputs": [],
   "source": [
    "# Visualisasi perbandingan StudyTimeWeekly dan GradeClass\n",
    "plt.figure(figsize=(8, 6))\n",
    "sns.boxplot(x='GradeClass', y='StudyTimeWeekly', data=student_data_final)\n",
    "plt.title('Perbandingan Waktu Belajar Mingguan dengan GradeClass')\n",
    "plt.show()\n",
    "\n",
    "# Visualisasi perbandingan Absences dan GradeClass\n",
    "plt.figure(figsize=(8, 6))\n",
    "sns.boxplot(x='GradeClass', y='Absences', data=student_data_final)\n",
    "plt.title('Perbandingan Absensi dengan GradeClass')\n",
    "plt.show()\n",
    "\n",
    "# Visualisasi perbandingan GPA dan GradeClass\n",
    "plt.figure(figsize=(8, 6))\n",
    "sns.boxplot(x='GradeClass', y='GPA', data=student_data_final)\n",
    "plt.title('Perbandingan GPA dengan GradeClass')\n",
    "plt.show()\n"
   ]
  },
  {
   "cell_type": "markdown",
   "id": "a086877f",
   "metadata": {},
   "source": [
    "Berikut adalah visualisasi yang membandingkan beberapa fitur dengan GradeClass:"
   ]
  },
  {
   "cell_type": "markdown",
   "id": "15f23dda",
   "metadata": {},
   "source": [
    "- Perbandingan Waktu Belajar Mingguan dengan GradeClass:\n",
    "\n",
    "Mahasiswa dengan GradeClass A (GPA ≥ 3.5) cenderung menghabiskan lebih banyak waktu untuk belajar. Ada selisih jelas antara mahasiswa dengan waktu belajar tinggi di kelas A dan kelas B, C, D, atau F.\n",
    "\n",
    "- Perbandingan Absensi dengan GradeClass:\n",
    "\n",
    "Mahasiswa dengan GradeClass A memiliki absensi yang lebih rendah, sementara mahasiswa dengan GradeClass D atau F cenderung memiliki absensi yang lebih tinggi. Hal ini memperkuat temuan sebelumnya bahwa absensi mempengaruhi kinerja akademik.\n",
    "\n",
    "- Perbandingan GPA dengan GradeClass:\n",
    "\n",
    "Grafik ini memperlihatkan bahwa GPA mahasiswa yang berada pada GradeClass A memiliki distribusi yang lebih tinggi dan konsisten, sementara GradeClass D dan F menunjukkan variabilitas yang lebih besar pada GPA yang lebih rendah."
   ]
  },
  {
   "cell_type": "markdown",
   "id": "13cdbd77",
   "metadata": {},
   "source": [
    "- Model Prediksi:\n",
    "\n",
    "Model regresi linier digunakan untuk memprediksi GradeClass berdasarkan fitur-fitur yang ada. Kami membagi data menjadi training set dan testing set, melakukan normalisasi, dan melatih model.\n",
    "\n",
    "\n",
    "- Evaluasi Model:\n",
    "\n",
    "Setelah model dilatih, kami mengukur performa menggunakan Mean Squared Error (MSE) dan R-squared. Kami juga memvisualisasikan hasil prediksi dibandingkan dengan nilai sebenarnya."
   ]
  },
  {
   "cell_type": "markdown",
   "id": "27453609",
   "metadata": {},
   "source": [
    "### KENAPA MENGGUNAKAN REGRESI LINEAR ? \n",
    "\n",
    "Menggunakan regresi linier untuk prediksi waktu belajar optimal berdasarkan data seperti waktu akses LMS, nilai tugas, dan absensi bisa menjadi pilihan yang tepat dalam beberapa kasus, terutama jika kita ingin melihat hubungan linear antara variabel prediktor (fitur) dan target (output). Berikut adalah alasan mengapa regresi linier dipilih untuk model prediksi ini:\n",
    "\n",
    "1. Hubungan Linear yang Sederhana\n",
    "\n",
    "Regresi linier sangat efektif jika ada hubungan linear yang jelas antara variabel independen (fitur) (seperti waktu belajar, absensi, dan GPA) dan variabel dependen (target) (seperti waktu belajar optimal atau klasifikasi nilai).\n",
    "\n",
    "Dalam banyak kasus, waktu belajar optimal mungkin berhubungan secara langsung dengan faktor-faktor seperti waktu belajar sebelumnya (StudyTimeWeekly), absensi, atau GPA.\n",
    "\n",
    "2. Interpretabilitas yang Tinggi\n",
    "\n",
    "Salah satu keuntungan utama dari regresi linier adalah bahwa model ini mudah untuk diinterpretasikan.\n",
    "\n",
    "Koefisien regresi linier memberikan wawasan tentang berapa besar pengaruh setiap fitur terhadap target. Misalnya, jika kita melihat koefisien untuk StudyTimeWeekly, kita bisa langsung tahu seberapa besar peningkatan waktu belajar optimal jika waktu belajar mingguan meningkat.\n",
    "\n",
    "3. Kinerja yang Baik untuk Masalah Sederhana\n",
    "\n",
    "Jika hubungan antara fitur dan target tidak terlalu kompleks dan tidak melibatkan banyak interaksi atau ketergantungan non-linear, regresi linier dapat memberikan hasil yang cukup baik.\n",
    "\n",
    "Untuk proyek ini, jika kita ingin memprediksi sesuatu yang lebih mudah dipahami (seperti waktu belajar optimal berdasarkan fitur yang jelas), regresi linier bisa menjadi pilihan yang solid.\n",
    "\n",
    "4. Pemodelan yang Cepat dan Efisien\n",
    "\n",
    "Regresi linier adalah salah satu algoritma yang paling sederhana dan efisien, dengan waktu pelatihan yang sangat cepat, terutama untuk dataset yang tidak terlalu besar.\n",
    "Dibandingkan dengan model yang lebih kompleks seperti random forests atau neural networks, regresi linier memerlukan lebih sedikit waktu untuk pelatihan dan dapat memberikan solusi yang cukup baik untuk masalah yang tidak memerlukan model yang sangat kompleks.\n",
    "\n",
    "5. Keterbatasan Model yang Jelas\n",
    "\n",
    "- Regresi linier mungkin bukan pilihan terbaik jika hubungan antar fitur sangat non-linear atau jika ada banyak interaksi kompleks antara fitur.\n",
    "Namun, jika kita tidak mengharapkan hubungan yang sangat rumit, regresi linier sering kali memberikan baseline yang baik untuk model prediksi yang lebih kompleks di masa depan.\n",
    "\n",
    "#### Kapan Menggunakan Regresi Linier:\n",
    "- Prediksi Nilai Kontinu: Regresi linier sangat bagus untuk memprediksi nilai kontinu seperti waktu belajar (misalnya, jumlah jam belajar).\n",
    "\n",
    "- Data dengan Hubungan Linear: Jika data Anda memiliki hubungan linear yang cukup sederhana antara fitur dan target, regresi linier dapat memberikan hasil yang cepat dan efektif.\n",
    "\n",
    "#### Kelebihan Regresi Linier:\n",
    "- Sederhana dan Mudah Dimengerti.\n",
    "- Cepat dalam Perhitungan dan Pelatihan.\n",
    "- Mudah Diinterpretasikan karena koefisien regresi memberikan informasi langsung mengenai kontribusi masing-masing fitur terhadap prediksi.\n",
    "\n",
    "#### Kelemahan Regresi Linier:\n",
    "- Tidak Cocok untuk Data yang Non-Linear: Jika hubungan antara fitur dan target tidak linear (misalnya, dalam kasus interaksi kompleks), regresi linier mungkin tidak memberikan hasil yang optimal.\n",
    "\n",
    "- Sensitif terhadap Outliers: \n",
    "Model ini sangat sensitif terhadap outliers atau data yang ekstrem.\n",
    "\n",
    "- Tidak Dapat Menangani Interaksi: \n",
    "Jika ada interaksi kompleks antara fitur yang mempengaruhi target, regresi linier mungkin gagal menangkapnya."
   ]
  },
  {
   "cell_type": "markdown",
   "id": "3ccc52ee",
   "metadata": {},
   "source": [
    "# TERIMAKASIH & HAPPY CODING"
   ]
  }
 ],
 "metadata": {
  "kernelspec": {
   "display_name": "Python 3",
   "language": "python",
   "name": "python3"
  },
  "language_info": {
   "codemirror_mode": {
    "name": "ipython",
    "version": 3
   },
   "file_extension": ".py",
   "mimetype": "text/x-python",
   "name": "python",
   "nbconvert_exporter": "python",
   "pygments_lexer": "ipython3",
   "version": "3.10.12"
  }
 },
 "nbformat": 4,
 "nbformat_minor": 5
}
